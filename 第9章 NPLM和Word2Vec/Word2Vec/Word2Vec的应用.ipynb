{
 "cells": [
  {
   "cell_type": "markdown",
   "id": "0cb7359a",
   "metadata": {},
   "source": [
    "# Word2Vec的应用"
   ]
  },
  {
   "cell_type": "code",
   "execution_count": 805,
   "id": "24238cc2",
   "metadata": {},
   "outputs": [],
   "source": [
    "import gensim as gensim\n",
    "import jieba\n",
    "import re\n",
    "from gensim.models import Word2Vec\n",
    "from gensim.models.keyedvectors import KeyedVectors"
   ]
  },
  {
   "cell_type": "code",
   "execution_count": null,
   "id": "19826986",
   "metadata": {},
   "outputs": [
    {
     "name": "stderr",
     "output_type": "stream",
     "text": [
      "<>:7: SyntaxWarning: invalid escape sequence '\\s'\n",
      "<>:7: SyntaxWarning: invalid escape sequence '\\s'\n",
      "C:\\Users\\xiaogang\\AppData\\Local\\Temp\\ipykernel_2088\\1296692460.py:7: SyntaxWarning: invalid escape sequence '\\s'\n",
      "  i = re.sub(\"[\\s+\\.\\!\\/_,$%^*(+\\\"\\'“”《》?“]+|[+——！，。？、~@#￥%……&*（）：]+\", \"\", i)\n"
     ]
    }
   ],
   "source": [
    "# swarma_article_small.txt是巩刚从网上各个途径摘录的语料库\n",
    "f = open(\"swarma_article_small.txt\", 'r', encoding='utf-8')\n",
    "lines = []\n",
    "for line in f:\n",
    "    temp = jieba.lcut(line)\n",
    "    words = []\n",
    "    for i in temp:\n",
    "        i = re.sub(\"[\\s+\\.\\!\\/_,$%^*(+\\\"\\'“”《》?“]+|[+——！，。？、~@#￥%……&*（）：]+\", \"\", i)\n",
    "        if len(i) > 0:\n",
    "            words.append(i)\n",
    "    if len(words) > 0:\n",
    "        lines.append(words) "
   ]
  },
  {
   "cell_type": "code",
   "execution_count": 817,
   "id": "2e641b96",
   "metadata": {},
   "outputs": [],
   "source": [
    "model = Word2Vec(lines, vector_size=50, window=7, min_count=0)"
   ]
  },
  {
   "cell_type": "code",
   "execution_count": 818,
   "id": "8deb0ff6",
   "metadata": {},
   "outputs": [
    {
     "data": {
      "text/plain": [
       "[('我国', 0.996182918548584),\n",
       " ('硬币', 0.9953030943870544),\n",
       " ('中华人民共和国', 0.9939388036727905),\n",
       " ('联邦', 0.9926289319992065),\n",
       " ('以来', 0.9920521974563599)]"
      ]
     },
     "execution_count": 818,
     "metadata": {},
     "output_type": "execute_result"
    }
   ],
   "source": [
    "model.wv.most_similar('莫斯科', topn = 5)"
   ]
  },
  {
   "cell_type": "code",
   "execution_count": 819,
   "id": "cc58156c",
   "metadata": {},
   "outputs": [
    {
     "data": {
      "text/plain": [
       "[('之后', 0.973055362701416),\n",
       " ('汉中', 0.9690880179405212),\n",
       " ('战后', 0.9685674905776978),\n",
       " ('陪同', 0.9679185152053833),\n",
       " ('得知', 0.967315673828125)]"
      ]
     },
     "execution_count": 819,
     "metadata": {},
     "output_type": "execute_result"
    }
   ],
   "source": [
    "model.wv.most_similar('唐太宗', topn = 5)"
   ]
  },
  {
   "cell_type": "code",
   "execution_count": 820,
   "id": "128a697e",
   "metadata": {},
   "outputs": [
    {
     "data": {
      "text/plain": [
       "[('主公', 0.9887265563011169),\n",
       " ('这里', 0.9880537390708923),\n",
       " ('对方', 0.9880360960960388),\n",
       " ('身上', 0.9873904585838318),\n",
       " ('降临', 0.9873508810997009)]"
      ]
     },
     "execution_count": 820,
     "metadata": {},
     "output_type": "execute_result"
    }
   ],
   "source": [
    "model.wv.most_similar('魏征', topn = 5)"
   ]
  },
  {
   "cell_type": "code",
   "execution_count": 821,
   "id": "94ad2ee5",
   "metadata": {},
   "outputs": [
    {
     "data": {
      "text/plain": [
       "[('女儿', 0.987555980682373),\n",
       " ('阿四', 0.986664891242981),\n",
       " ('妹妹', 0.9857918620109558),\n",
       " ('夫妇', 0.9857869148254395),\n",
       " ('博杜安', 0.985317587852478)]"
      ]
     },
     "execution_count": 821,
     "metadata": {},
     "output_type": "execute_result"
    }
   ],
   "source": [
    "model.wv.most_similar(positive=['女人', '国王'], negative=['男人'], topn=5)"
   ]
  },
  {
   "cell_type": "code",
   "execution_count": 822,
   "id": "a944cb86",
   "metadata": {},
   "outputs": [
    {
     "data": {
      "text/plain": [
       "[('于是', 0.976177990436554),\n",
       " ('关羽', 0.9713446497917175),\n",
       " ('又', 0.9649779200553894),\n",
       " ('便', 0.9623106122016907),\n",
       " ('托付', 0.9592030048370361)]"
      ]
     },
     "execution_count": 822,
     "metadata": {},
     "output_type": "execute_result"
    }
   ],
   "source": [
    "model.wv.most_similar(positive=['刘备', '魏征'], negative=['诸葛亮'], topn=5)"
   ]
  },
  {
   "cell_type": "code",
   "execution_count": 823,
   "id": "4a45f6b4",
   "metadata": {},
   "outputs": [
    {
     "data": {
      "text/plain": [
       "[('人民币', 0.9806777238845825),\n",
       " ('直辖市', 0.9801305532455444),\n",
       " ('3', 0.9798313975334167),\n",
       " ('大约', 0.9770430326461792),\n",
       " ('死神', 0.975924015045166)]"
      ]
     },
     "execution_count": 823,
     "metadata": {},
     "output_type": "execute_result"
    }
   ],
   "source": [
    "model.wv.most_similar(positive=['美元', '英镑', '日元'], topn = 5)"
   ]
  },
  {
   "cell_type": "code",
   "execution_count": 824,
   "id": "ac211cab",
   "metadata": {},
   "outputs": [
    {
     "data": {
      "text/plain": [
       "[('袁绍', 0.9769761562347412),\n",
       " ('刘表', 0.9696922898292542),\n",
       " ('李建成', 0.9654285311698914),\n",
       " ('李世民', 0.9640828967094421),\n",
       " ('李渊', 0.9473082423210144)]"
      ]
     },
     "execution_count": 824,
     "metadata": {},
     "output_type": "execute_result"
    }
   ],
   "source": [
    "model.wv.most_similar(positive=['刘备', '曹操', '孙权'], topn = 5)"
   ]
  },
  {
   "cell_type": "code",
   "execution_count": 825,
   "id": "e646a102",
   "metadata": {},
   "outputs": [
    {
     "data": {
      "text/plain": [
       "[('辅佐', 0.989760160446167),\n",
       " ('法正', 0.9888598322868347),\n",
       " ('重用', 0.9887984395027161),\n",
       " ('密谋', 0.9867261052131653),\n",
       " ('埋伏', 0.9854264259338379)]"
      ]
     },
     "execution_count": 825,
     "metadata": {},
     "output_type": "execute_result"
    }
   ],
   "source": [
    "model.wv.most_similar(positive=['关羽', '张飞', '赵云', '马超', '黄忠'], topn = 5)"
   ]
  },
  {
   "cell_type": "code",
   "execution_count": 826,
   "id": "26fcefc6",
   "metadata": {},
   "outputs": [
    {
     "data": {
      "text/plain": [
       "[('任', 0.9897830486297607),\n",
       " ('и', 0.9867926836013794),\n",
       " ('634', 0.9866867661476135),\n",
       " ('с', 0.9866362810134888),\n",
       " ('享年', 0.985969066619873)]"
      ]
     },
     "execution_count": 826,
     "metadata": {},
     "output_type": "execute_result"
    }
   ],
   "source": [
    "model.wv.most_similar(positive=['北京', '俄罗斯'], negative=['中国'], topn = 5)"
   ]
  },
  {
   "cell_type": "markdown",
   "id": "4096fc60",
   "metadata": {},
   "source": [
    "总结：Word2Vec模型是一个对NPLM的改进，它利用了层次归一化指数函数和负采样算法，可以非常快地训练出词向量，效果也非常好，词向量携带着单词的语义，可以揭示词与词之间的关系"
   ]
  },
  {
   "cell_type": "markdown",
   "id": "0d51d535",
   "metadata": {},
   "source": []
  }
 ],
 "metadata": {
  "kernelspec": {
   "display_name": "learning",
   "language": "python",
   "name": "python3"
  },
  "language_info": {
   "codemirror_mode": {
    "name": "ipython",
    "version": 3
   },
   "file_extension": ".py",
   "mimetype": "text/x-python",
   "name": "python",
   "nbconvert_exporter": "python",
   "pygments_lexer": "ipython3",
   "version": "3.12.9"
  }
 },
 "nbformat": 4,
 "nbformat_minor": 5
}
